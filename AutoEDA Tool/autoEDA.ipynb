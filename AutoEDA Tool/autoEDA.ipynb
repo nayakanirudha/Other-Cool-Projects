{
 "cells": [
  {
   "cell_type": "markdown",
   "metadata": {},
   "source": [
    "### AutoEDA Tool"
   ]
  },
  {
   "cell_type": "code",
   "execution_count": 17,
   "metadata": {
    "ExecuteTime": {
     "end_time": "2020-11-20T15:03:04.819089Z",
     "start_time": "2020-11-20T15:03:04.811145Z"
    }
   },
   "outputs": [],
   "source": [
    "import numpy as np\n",
    "import pandas as pd\n",
    "import matplotlib.pyplot as plt\n",
    "import seaborn as sns\n",
    "import os\n",
    "\n",
    "import pandas.api.types as typeop"
   ]
  },
  {
   "cell_type": "code",
   "execution_count": 18,
   "metadata": {
    "ExecuteTime": {
     "end_time": "2020-11-20T15:03:13.374221Z",
     "start_time": "2020-11-20T15:03:06.210172Z"
    }
   },
   "outputs": [],
   "source": [
    "df1 = pd.read_csv('Datasets/vehicleInsurance.csv')\n",
    "df2 = pd.read_csv('Datasets/pimaDiabetes.csv')\n",
    "df3 = pd.read_excel('Datasets/superstore-subset.xlsx')\n",
    "df4 = pd.read_csv('Datasets/housePrices.csv')\n",
    "df5 = pd.read_csv('Datasets/attrition.csv')"
   ]
  },
  {
   "cell_type": "markdown",
   "metadata": {
    "heading_collapsed": true
   },
   "source": [
    "#### Variable Identification Function\n",
    "- Helper Function used across all 4 functions"
   ]
  },
  {
   "cell_type": "code",
   "execution_count": 19,
   "metadata": {
    "ExecuteTime": {
     "end_time": "2020-11-20T15:03:57.292717Z",
     "start_time": "2020-11-20T15:03:57.252788Z"
    },
    "hidden": true
   },
   "outputs": [],
   "source": [
    "def identifyVariables(dataset):\n",
    "    columns = list(dataset.columns)\n",
    "    cat_vars = []\n",
    "    num_vars = []\n",
    "    \n",
    "    # Variable Identification\n",
    "    print(\"-----Variable Identification-----\")\n",
    "    for i in columns:\n",
    "        if(typeop.is_string_dtype(dataset[i]) or (dataset[i].nunique() <= 5)):\n",
    "            cat_vars.append(i)\n",
    "        elif(typeop.is_numeric_dtype(dataset[i])):\n",
    "            num_vars.append(i)\n",
    "    print(\"\\nCategorical Variables: \\n\",cat_vars)\n",
    "    print(\"\\nNumerical Variables: \\n\",num_vars)\n",
    "    \n",
    "    # Ask User if he wants to remove any variables from analysis :\n",
    "    switch = input(\"\\nDo you want to remove any variables from the analysis eg.Text or Employee ID or DateTime type ? (Y/N) : \").upper()\n",
    "    while(switch =='Y'):\n",
    "        varToPop = list(str(x) for x in input(\"Enter list of variables separated by \\\",\\\": \").split(','))\n",
    "        wrongVar = []\n",
    "        for i in varToPop:\n",
    "            if(i in cat_vars):\n",
    "                cat_vars.pop(cat_vars.index(i))\n",
    "            elif(i in num_vars):\n",
    "                num_vars.pop(num_vars.index(i))\n",
    "            else:\n",
    "                wrongVar.append(i)\n",
    "        if(len(wrongVar) > 0):\n",
    "            print(\"Following elements have been wrongly entered: \",wrongVar)\n",
    "            print(\"\\nPlease Try Again!!!\")\n",
    "        else:\n",
    "            print(\"\\n{} elements have been removed!!\".format(len(varToPop)))\n",
    "            switch ='N'\n",
    "        \n",
    "    \n",
    "    # Ask User if he wants to switch lists for any variable :\n",
    "    switch = input(\"\\nDo you want to change the categories of any Variable? (Y/N) :  \").upper()\n",
    "    while(switch =='Y'):\n",
    "        varToswitch = list(str(x) for x in input(\"Enter list of variables separated by \\\",\\\": \").split(','))\n",
    "        wrongVar = []\n",
    "        for i in varToswitch:\n",
    "            if(i in cat_vars):\n",
    "                num_vars.append(i)\n",
    "                cat_vars.pop(cat_vars.index(i))\n",
    "            elif(i in num_vars):\n",
    "                cat_vars.append(i)\n",
    "                num_vars.pop(num_vars.index(i))\n",
    "            else:\n",
    "                wrongVar.append(i)\n",
    "        if(len(wrongVar) > 0):\n",
    "            print(\"Following elements have been wrongly entered: \",wrongVar)\n",
    "            print(\"\\nPlease Try Again!!!\")\n",
    "        else:\n",
    "            print(\"\\n{} elements have been switched!!\".format(len(varToswitch)))\n",
    "            switch ='N'\n",
    "            \n",
    "        print(\"-----Updated List of Variables-----\")\n",
    "        print(\"\\nCategorical Variables: \\n\",cat_vars)\n",
    "        print(\"\\nNumerical Variables: \\n\",num_vars)\n",
    "        \n",
    "    return num_vars,cat_vars"
   ]
  },
  {
   "cell_type": "markdown",
   "metadata": {
    "heading_collapsed": true
   },
   "source": [
    "#### Histograms for Numeric Data\n",
    "- Input : dataset\n",
    "- Output : Histograms of all numerical data \n",
    "and save it in .png"
   ]
  },
  {
   "cell_type": "code",
   "execution_count": null,
   "metadata": {
    "ExecuteTime": {
     "end_time": "2020-11-20T11:22:53.456388Z",
     "start_time": "2020-11-20T11:22:53.433416Z"
    },
    "hidden": true
   },
   "outputs": [],
   "source": [
    "def Histograms(dataset,name):\n",
    "    \n",
    "    # identifyVariables function will return the list of numerical and categorical variables\n",
    "    num_vars,cat_vars = identifyVariables(dataset)\n",
    "    \n",
    "    # by default makes a directory in current working directory where all graphs will be saved\n",
    "    graph_location = os.getcwd() + \"/\"+ name + \"/Univariate/Numerical/\"\n",
    "    os.makedirs(graph_location)\n",
    "    \n",
    "    # Loop across all the numerical variables to plot the histogram and save it \n",
    "    print(\"\\n-----Histograms for Numerical Variables-----\")\n",
    "\n",
    "    for i in num_vars:\n",
    "        fig = plt.figure(figsize=(10,10))\n",
    "        ax = sns.distplot(dataset[i],kde=False,norm_hist=False)\n",
    "        ax.set(title= \"Dataset : {} , Histogram: {}\".format(name,i),xlabel= i,ylabel= \"Count\")\n",
    "        plt.savefig(graph_location + \"{}_Histogram.png\".format(i),bbox_inches='tight', dpi=300)\n",
    "        plt.close(fig)\n",
    "        \n",
    "    print(\"\\nPlotted and Saved Histograms of {} Numerical Variables\".format(len(num_vars)))\n",
    "    return"
   ]
  },
  {
   "cell_type": "code",
   "execution_count": null,
   "metadata": {
    "ExecuteTime": {
     "end_time": "2020-11-20T03:06:57.897574Z",
     "start_time": "2020-11-20T03:06:57.881581Z"
    },
    "hidden": true
   },
   "outputs": [],
   "source": [
    "df1.columns"
   ]
  },
  {
   "cell_type": "code",
   "execution_count": null,
   "metadata": {
    "ExecuteTime": {
     "end_time": "2020-11-20T03:14:19.551911Z",
     "start_time": "2020-11-20T03:13:23.607973Z"
    },
    "hidden": true
   },
   "outputs": [],
   "source": [
    "Histograms(df1,\"Vehicle Insurance\")"
   ]
  },
  {
   "cell_type": "markdown",
   "metadata": {
    "heading_collapsed": true
   },
   "source": [
    "#### Histograms + BoxPlot for Numeric Data and Bar Plot for Categorical Data\n",
    "- Input : dataset\n",
    "- Output : Histograms and Boxplots for numerical data and Bar plots of categorical data and save it in .png"
   ]
  },
  {
   "cell_type": "code",
   "execution_count": null,
   "metadata": {
    "ExecuteTime": {
     "end_time": "2020-11-20T11:23:06.588586Z",
     "start_time": "2020-11-20T11:23:06.561660Z"
    },
    "hidden": true
   },
   "outputs": [],
   "source": [
    "def Graphs(dataset,name):\n",
    "    \n",
    "    num_vars,cat_vars = identifyVariables(dataset)\n",
    "\n",
    "    # by default makes a directory in current working directory where all graphs will be saved\n",
    "    numerical_location = os.getcwd() + \"/\" + name + \"/Univariate/Numerical/\"\n",
    "    categorical_location = os.getcwd() + \"/\" + name + \"/Univariate/Categorical/\"\n",
    "    os.makedirs(numerical_location)\n",
    "    os.makedirs(categorical_location)\n",
    "    \n",
    "    # Loop across all the numerical variables to plot the Histogram and Boxplot and save it \n",
    "    print(\"\\n-----Histograms and Box plots for Numerical Variables-----\")\n",
    "\n",
    "    for i in num_vars:\n",
    "        fig,ax = plt.subplots(1,2,figsize=(20,10))\n",
    "        sns.distplot(dataset[i],kde=False,norm_hist=False,ax=ax[0])\n",
    "        ax[0].set(title= \"Dataset : {} , Histogram: {}\".format(name,i),xlabel= i,ylabel= \"Count\")\n",
    "        sns.boxplot(dataset[i],ax=ax[1])\n",
    "        ax[1].set(title= \"Dataset : {} , Boxplot : {}\".format(name,i),xlabel= i)\n",
    "        plt.savefig((numerical_location+\"{}_BoxAndHist.png\").format(i), bbox_inches = 'tight',dpi=300)\n",
    "        plt.close(fig)\n",
    "        \n",
    "    print(\"\\nPlotted and Saved Histograms + Box Plots of {} Numerical Variables\".format(len(num_vars)))\n",
    "    \n",
    "    # Loop across all the Categorical variables to plot the Countplot and save it \n",
    "    print(\"\\n-----Count Plots for Categorical Variables-----\")\n",
    "\n",
    "    for i in cat_vars:\n",
    "        fig = plt.figure(figsize=(10,10))\n",
    "        ax = sns.countplot(data=dataset,x=i)\n",
    "        ax.set(title= \"Dataset : {} , Countplot : {}\".format(name,i),xlabel= i,ylabel= \"Count\")\n",
    "        plt.savefig((categorical_location+\"{}_Countplot.png\").format(i),bbox_inches = 'tight',dpi=300)\n",
    "        plt.close(fig)\n",
    "        \n",
    "    print(\"\\nPlotted and Saved Countplots of {} Categorical Variables\".format(len(cat_vars)))\n",
    "    return"
   ]
  },
  {
   "cell_type": "code",
   "execution_count": null,
   "metadata": {
    "ExecuteTime": {
     "end_time": "2020-11-20T03:15:25.662763Z",
     "start_time": "2020-11-20T03:15:25.648802Z"
    },
    "hidden": true
   },
   "outputs": [],
   "source": [
    "df2.columns"
   ]
  },
  {
   "cell_type": "code",
   "execution_count": null,
   "metadata": {
    "ExecuteTime": {
     "end_time": "2020-11-20T03:17:20.780856Z",
     "start_time": "2020-11-20T03:16:00.192334Z"
    },
    "hidden": true
   },
   "outputs": [],
   "source": [
    "Graphs(df2,\"Diabetes\")"
   ]
  },
  {
   "cell_type": "markdown",
   "metadata": {
    "heading_collapsed": true
   },
   "source": [
    "#### Graphs  to be plotted for User Specified variables\n",
    "- Input : dataset, list of variables to plot \n",
    "- Output : Based on numeric or categorical plot appropriate graphs \n",
    "and save it in .png format"
   ]
  },
  {
   "cell_type": "code",
   "execution_count": null,
   "metadata": {
    "ExecuteTime": {
     "end_time": "2020-11-20T14:32:10.665062Z",
     "start_time": "2020-11-20T14:32:10.644124Z"
    },
    "hidden": true
   },
   "outputs": [],
   "source": [
    "def specificGraphs(dataset,name,cols = []):\n",
    "    \n",
    "    if len(cols) == 0 :\n",
    "        cols = [x for x in range(len(dataset.columns))]\n",
    "    num_vars,cat_vars = identifyVariables(dataset.iloc[:,cols])\n",
    "    \n",
    "    # by default makes a directory in current working directory where all graphs will be saved\n",
    "    numerical_location = os.getcwd() + \"/\" + name + \"/Univariate/Numerical/\"\n",
    "    categorical_location = os.getcwd() + \"/\" + name + \"/Univariate/Categorical/\"\n",
    "    os.makedirs(numerical_location)\n",
    "    os.makedirs(categorical_location)\n",
    "    \n",
    "    # Loop across all the numerical variables to plot the Histogram and Boxplot and save it \n",
    "    print(\"\\n-----Histograms and Box plots for Numerical Variables-----\")\n",
    "\n",
    "    for i in num_vars:\n",
    "        fig,ax = plt.subplots(1,2,figsize=(20,10))\n",
    "        sns.distplot(dataset[i],kde=False,norm_hist=False,ax=ax[0])\n",
    "        ax[0].set(title= \"Dataset : {} , Histogram: {}\".format(name,i),xlabel= i,ylabel= \"Count\")\n",
    "        sns.boxplot(dataset[i],ax=ax[1])\n",
    "        ax[1].set(title= \"Dataset : {} , Boxplot : {}\".format(name,i),xlabel= i)\n",
    "        plt.savefig(numerical_location+\"{}_BoxAndHist.png\".format(i), bbox_inches = 'tight',dpi=300)\n",
    "        plt.close(fig)\n",
    "        \n",
    "    print(\"\\nPlotted and Saved Histograms + Box Plots of {} Numerical Variables\".format(len(num_vars)))\n",
    "    \n",
    "    # Loop across all the Categorical variables to plot the Countplot and save it \n",
    "    print(\"\\n-----Count Plots for Categorical Variables-----\")\n",
    "\n",
    "    for i in cat_vars:\n",
    "        fig = plt.figure(figsize=(10,10))\n",
    "        ax = sns.countplot(data=dataset,x=i)\n",
    "        ax.set(title= \"Dataset : {} , Countplot : {}\".format(name,i),xlabel= i,ylabel= \"Count\")\n",
    "        plt.savefig(categorical_location+\"{}_Countplot.png\".format(i),bbox_inches = 'tight',dpi=300)\n",
    "        plt.close(fig)\n",
    "        \n",
    "    print(\"\\nPlotted and Saved Countplots of {} Categorical Variables\".format(len(cat_vars)))\n",
    "    return"
   ]
  },
  {
   "cell_type": "code",
   "execution_count": null,
   "metadata": {
    "ExecuteTime": {
     "end_time": "2020-11-20T14:38:17.413779Z",
     "start_time": "2020-11-20T14:38:17.382863Z"
    },
    "hidden": true
   },
   "outputs": [],
   "source": [
    "list(df3.columns).index(\"Discount\")"
   ]
  },
  {
   "cell_type": "code",
   "execution_count": null,
   "metadata": {
    "ExecuteTime": {
     "end_time": "2020-11-20T14:40:05.912113Z",
     "start_time": "2020-11-20T14:38:25.771879Z"
    },
    "hidden": true
   },
   "outputs": [],
   "source": [
    "specificGraphs(df3,\"superstore\",[1,2,7,8,11,20,22])"
   ]
  },
  {
   "cell_type": "markdown",
   "metadata": {
    "heading_collapsed": true
   },
   "source": [
    "#### Graphs  to be plotted for User Specified variables and saved in User Specified Location\n",
    "- Input: dataset, list of variables,directory\n",
    "- Output: Save all the graphs in the user specified directory"
   ]
  },
  {
   "cell_type": "code",
   "execution_count": null,
   "metadata": {
    "ExecuteTime": {
     "end_time": "2020-11-20T15:02:47.460847Z",
     "start_time": "2020-11-20T15:02:47.425942Z"
    },
    "hidden": true
   },
   "outputs": [],
   "source": [
    "def specificGraphsInDir(dataset,name,cols=[],location= os.getcwd()):\n",
    "\n",
    "    if len(cols) == 0 :\n",
    "        cols = [x for x in range(len(dataset.columns))]\n",
    "    \n",
    "    num_vars,cat_vars = identifyVariables(dataset.iloc[:,cols])\n",
    "    \n",
    "    numerical_location = location + \"/\" + name + \"/Univariate/Numerical/\"\n",
    "    categorical_location = location + \"/\" + name + \"/Univariate/Categorical/\"\n",
    "    os.makedirs(numerical_location)\n",
    "    os.makedirs(categorical_location)\n",
    "    \n",
    "    # Loop across all the numerical variables to plot the Histogram and Boxplot and save it \n",
    "    print(\"\\n-----Histograms and Box plots for Numerical Variables-----\")\n",
    "\n",
    "    for i in num_vars:\n",
    "        fig,ax = plt.subplots(1,2,figsize=(20,10))\n",
    "        sns.distplot(dataset[i].dropna(),kde=False,norm_hist=False,ax=ax[0])\n",
    "        ax[0].set(title= \"Dataset : {} , Histogram: {}\".format(name,i),xlabel= i,ylabel= \"Count\")\n",
    "        sns.boxplot(dataset[i].dropna(),ax=ax[1])\n",
    "        ax[1].set(title= \"Dataset : {} , Boxplot : {}\".format(name,i),xlabel= i)\n",
    "        plt.savefig((numerical_location + \"{}_BoxAndHist.png\").format(i), bbox_inches = 'tight',dpi=300)\n",
    "        plt.close(fig)\n",
    "        \n",
    "    print(\"\\nPlotted and Saved Histograms + Box Plots of {} Numerical Variables\".format(len(num_vars)))\n",
    "    \n",
    "    # Loop across all the Categorical variables to plot the Countplot and save it \n",
    "    print(\"\\n-----Count Plots for Categorical Variables-----\")\n",
    "\n",
    "    for i in cat_vars:\n",
    "        fig = plt.figure(figsize=(10,10))\n",
    "        ax = sns.countplot(data=dataset,x=i)\n",
    "        ax.set(title= \"Dataset : {} , Countplot : {}\".format(name,i),xlabel= i,ylabel= \"Count\")\n",
    "        plt.savefig((categorical_location + \"{}_Countplot.png\").format(i),bbox_inches = 'tight',dpi=300)\n",
    "        plt.close(fig)\n",
    "        \n",
    "    print(\"\\nPlotted and Saved Countplots of {} Categorical Variables\".format(len(cat_vars)))\n",
    "    return"
   ]
  },
  {
   "cell_type": "code",
   "execution_count": 22,
   "metadata": {
    "ExecuteTime": {
     "end_time": "2020-11-20T15:10:30.637587Z",
     "start_time": "2020-11-20T15:10:30.618637Z"
    },
    "hidden": true
   },
   "outputs": [
    {
     "data": {
      "text/plain": [
       "81"
      ]
     },
     "execution_count": 22,
     "metadata": {},
     "output_type": "execute_result"
    }
   ],
   "source": [
    "len(df4.columns)"
   ]
  },
  {
   "cell_type": "code",
   "execution_count": 23,
   "metadata": {
    "ExecuteTime": {
     "end_time": "2020-11-20T15:12:44.933279Z",
     "start_time": "2020-11-20T15:11:15.470598Z"
    },
    "hidden": true
   },
   "outputs": [
    {
     "name": "stdout",
     "output_type": "stream",
     "text": [
      "-----Variable Identification-----\n",
      "\n",
      "Categorical Variables: \n",
      " ['LandContour', 'Neighborhood', 'HouseStyle']\n",
      "\n",
      "Numerical Variables: \n",
      " ['Id', 'LotFrontage', 'LotArea', 'OverallQual', 'PoolArea', 'SalePrice']\n",
      "\n",
      "Do you want to remove any variables from the analysis eg.Text or Employee ID or DateTime type ? (Y/N) : Y\n",
      "Enter list of variables separated by \",\": Id\n",
      "\n",
      "1 elements have been removed!!\n",
      "\n",
      "Do you want to change the categories of any Variable? (Y/N) :  Y\n",
      "Enter list of variables separated by \",\": OverallQual\n",
      "\n",
      "1 elements have been switched!!\n",
      "-----Updated List of Variables-----\n",
      "\n",
      "Categorical Variables: \n",
      " ['LandContour', 'Neighborhood', 'HouseStyle', 'OverallQual']\n",
      "\n",
      "Numerical Variables: \n",
      " ['LotFrontage', 'LotArea', 'PoolArea', 'SalePrice']\n",
      "\n",
      "-----Histograms and Box plots for Numerical Variables-----\n",
      "\n",
      "Plotted and Saved Histograms + Box Plots of 4 Numerical Variables\n",
      "\n",
      "-----Count Plots for Categorical Variables-----\n",
      "\n",
      "Plotted and Saved Countplots of 4 Categorical Variables\n"
     ]
    }
   ],
   "source": [
    "specificGraphsInDir(df4,\"House Prices\",[0,3,4,8,12,16,17,71,80],\"C:/Anirudha\")"
   ]
  },
  {
   "cell_type": "markdown",
   "metadata": {
    "heading_collapsed": true
   },
   "source": [
    "#### Graphs for Bivariate Analysis\n",
    "- Input: dataset,list of variables,directory location\n",
    "- Output: Different types of graphs for different combination of variables stored in different folders in given directory"
   ]
  },
  {
   "cell_type": "code",
   "execution_count": 33,
   "metadata": {
    "ExecuteTime": {
     "end_time": "2020-11-20T16:01:50.153076Z",
     "start_time": "2020-11-20T16:01:50.108197Z"
    },
    "hidden": true
   },
   "outputs": [],
   "source": [
    "def bivariateAnalysis(dataset,name,cols=[],location= os.getcwd()):\n",
    "    \n",
    "    if len(cols) == 0 :\n",
    "        cols = [x for x in range(len(dataset.columns))]\n",
    "    num_vars,cat_vars = identifyVariables(dataset.iloc[:,cols])\n",
    "    \n",
    "    numvsnum_location = location + \"/\" + name + \"/Bivariate/NumVSNum/\"\n",
    "    numvscat_location = location + \"/\" + name + \"/Bivariate/NumVSCat/\"\n",
    "    catvscat_location = location + \"/\" + name + \"/Bivariate/CatVSCat/\"\n",
    "    os.makedirs(numvsnum_location)\n",
    "    os.makedirs(numvscat_location)\n",
    "    os.makedirs(catvscat_location)\n",
    "    \n",
    "    # Loop across all the numerical variables to plot the Histogram and Boxplot and save it \n",
    "    print(\"\\n-----Join Plots for Numerical Vs Numerical Analysis-----\")\n",
    "    count=0\n",
    "    for i in num_vars:\n",
    "        for j in num_vars:            \n",
    "            if(i!=j and num_vars.index(i)<num_vars.index(j)):\n",
    "                fig = plt.figure(figsize=(10,10))\n",
    "                ax = sns.jointplot(data=dataset,x=i,y=j,cmap=\"Winter\")\n",
    "                plt.savefig((numvsnum_location+\"{}vs{}_JointPlot.png\").format(i,j),bbox_inches='tight', dpi=300)\n",
    "                plt.close(fig)\n",
    "                count=count+1\n",
    "    print(\"\\nPlotted and Saved {} JointPlots\".format(count))\n",
    "    \n",
    "    print(\"\\n-----Violin Plots for Numerical Vs Categorical Analysis-----\")\n",
    "    count=0\n",
    "    for i in cat_vars:\n",
    "        for j in num_vars:\n",
    "            fig = plt.figure(figsize=(10,10))\n",
    "            ax = sns.violinplot(data=dataset,x=i,y=j)\n",
    "            ax.set(title= \"Dataset : {} , Violinplot: {} vs {}\".format(name,i,j),xlabel= i,ylabel= j)\n",
    "            plt.savefig((numvscat_location+\"{}vs{}_ViolinPlot.png\").format(i,j),bbox_inches='tight', dpi=300)\n",
    "            plt.close(fig)\n",
    "            count=count+1\n",
    "    print(\"\\nPlotted and Saved {} ViolinPLot\".format(count))\n",
    "    \n",
    "    print(\"\\n-----HeatMaps for Categorical Vs Categorical Analysis-----\")\n",
    "    count=0\n",
    "    for i in cat_vars:\n",
    "        for j in cat_vars:\n",
    "            if(i!=j and cat_vars.index(i)<cat_vars.index(j)):\n",
    "                myTable = pd.crosstab(index=dataset[i],columns = dataset[j],normalize='index')\n",
    "                fig = plt.figure(figsize=(10,10))\n",
    "                ax = sns.heatmap(data=myTable*100,cmap=\"Greens\",annot= True)\n",
    "                bottom, top = ax.get_ylim()\n",
    "                ax.set_ylim(bottom + 0.5, top - 0.5)\n",
    "                ax.set(title= \"Dataset : {} , HeatMaps : {} vs {}\".format(name,i,j),xlabel= j,ylabel= i)\n",
    "                plt.savefig((catvscat_location+\"{}vs{}_HeatMap.png\").format(i,j),bbox_inches='tight', dpi=300)\n",
    "                plt.close(fig)\n",
    "                count=count+1\n",
    "    print(\"\\nPlotted and Saved {} HeatMaps\".format(count))\n",
    "    return"
   ]
  },
  {
   "cell_type": "code",
   "execution_count": 31,
   "metadata": {
    "ExecuteTime": {
     "end_time": "2020-11-20T15:36:01.990667Z",
     "start_time": "2020-11-20T15:36:01.970723Z"
    },
    "hidden": true
   },
   "outputs": [
    {
     "data": {
      "text/plain": [
       "21"
      ]
     },
     "execution_count": 31,
     "metadata": {},
     "output_type": "execute_result"
    }
   ],
   "source": [
    "len(df5.columns)"
   ]
  },
  {
   "cell_type": "code",
   "execution_count": 34,
   "metadata": {
    "ExecuteTime": {
     "end_time": "2020-11-20T16:02:47.925492Z",
     "start_time": "2020-11-20T16:02:05.584594Z"
    },
    "hidden": true
   },
   "outputs": [
    {
     "name": "stdout",
     "output_type": "stream",
     "text": [
      "-----Variable Identification-----\n",
      "\n",
      "Categorical Variables: \n",
      " ['Attrition', 'BusinessTravel', 'Department', 'Gender', 'OverTime']\n",
      "\n",
      "Numerical Variables: \n",
      " ['MonthlyIncome', 'YearsAtCompany', 'DistanceFromHome']\n",
      "\n",
      "Do you want to remove any variables from the analysis eg.Text or Employee ID or DateTime type ? (Y/N) : N\n",
      "\n",
      "Do you want to change the categories of any Variable? (Y/N) :  N\n",
      "\n",
      "-----Join Plots for Numerical Vs Numerical Analysis-----\n",
      "\n",
      "Plotted and Saved 3 JointPlots\n",
      "\n",
      "-----Violin Plots for Numerical Vs Categorical Analysis-----\n",
      "\n",
      "Plotted and Saved 15 ViolinPLot\n",
      "\n",
      "-----HeatMaps for Categorical Vs Categorical Analysis-----\n",
      "\n",
      "Plotted and Saved 10 HeatMaps\n"
     ]
    },
    {
     "data": {
      "image/png": "[encoded data removed]",
      "text/plain": [
       "<Figure size 432x432 with 3 Axes>"
      ]
     },
     "metadata": {
      "needs_background": "light"
     },
     "output_type": "display_data"
    },
    {
     "data": {
      "image/png": "[encoded data removed]",
      "text/plain": [
       "<Figure size 432x432 with 3 Axes>"
      ]
     },
     "metadata": {
      "needs_background": "light"
     },
     "output_type": "display_data"
    },
    {
     "data": {
      "image/png": "[encoded data removed]",
      "text/plain": [
       "<Figure size 432x432 with 3 Axes>"
      ]
     },
     "metadata": {
      "needs_background": "light"
     },
     "output_type": "display_data"
    }
   ],
   "source": [
    "bivariateAnalysis(df5,\"Attrition\",[2,3,4,7,12,13,16,20],\"C:/Anirudha\")"
   ]
  },
  {
   "cell_type": "code",
   "execution_count": null,
   "metadata": {
    "hidden": true
   },
   "outputs": [],
   "source": []
  }
 ],
 "metadata": {
  "hide_input": false,
  "kernelspec": {
   "display_name": "Python 3",
   "language": "python",
   "name": "python3"
  },
  "language_info": {
   "codemirror_mode": {
    "name": "ipython",
    "version": 3
   },
   "file_extension": ".py",
   "mimetype": "text/x-python",
   "name": "python",
   "nbconvert_exporter": "python",
   "pygments_lexer": "ipython3",
   "version": "3.7.4"
  },
  "toc": {
   "base_numbering": 1,
   "nav_menu": {},
   "number_sections": true,
   "sideBar": true,
   "skip_h1_title": false,
   "title_cell": "Table of Contents",
   "title_sidebar": "Contents",
   "toc_cell": false,
   "toc_position": {},
   "toc_section_display": true,
   "toc_window_display": false
  },
  "varInspector": {
   "cols": {
    "lenName": 16,
    "lenType": 16,
    "lenVar": 40
   },
   "kernels_config": {
    "python": {
     "delete_cmd_postfix": "",
     "delete_cmd_prefix": "del ",
     "library": "var_list.py",
     "varRefreshCmd": "print(var_dic_list())"
    },
    "r": {
     "delete_cmd_postfix": ") ",
     "delete_cmd_prefix": "rm(",
     "library": "var_list.r",
     "varRefreshCmd": "cat(var_dic_list()) "
    }
   },
   "types_to_exclude": [
    "module",
    "function",
    "builtin_function_or_method",
    "instance",
    "_Feature"
   ],
   "window_display": true
  }
 },
 "nbformat": 4,
 "nbformat_minor": 2
}
